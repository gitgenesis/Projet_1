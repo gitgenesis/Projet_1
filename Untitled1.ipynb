{
 "cells": [
  {
   "cell_type": "code",
   "execution_count": 2,
   "id": "fa5458bf-9128-4acf-af12-ac2ac96f756b",
   "metadata": {},
   "outputs": [],
   "source": [
    "import pandas as pd\n",
    "import sqlalchemy as sql\n",
    "from pathlib import Path"
   ]
  },
  {
   "cell_type": "code",
   "execution_count": 13,
   "id": "38662828-f95c-41ac-852d-0053dc6a4112",
   "metadata": {},
   "outputs": [
    {
     "data": {
      "text/html": [
       "<div>\n",
       "<style scoped>\n",
       "    .dataframe tbody tr th:only-of-type {\n",
       "        vertical-align: middle;\n",
       "    }\n",
       "\n",
       "    .dataframe tbody tr th {\n",
       "        vertical-align: top;\n",
       "    }\n",
       "\n",
       "    .dataframe thead th {\n",
       "        text-align: right;\n",
       "    }\n",
       "</style>\n",
       "<table border=\"1\" class=\"dataframe\">\n",
       "  <thead>\n",
       "    <tr style=\"text-align: right;\">\n",
       "      <th></th>\n",
       "      <th>Sector</th>\n",
       "      <th>Ticker</th>\n",
       "      <th>Company</th>\n",
       "      <th>Market Capitalization</th>\n",
       "      <th>PE Ratio</th>\n",
       "    </tr>\n",
       "  </thead>\n",
       "  <tbody>\n",
       "    <tr>\n",
       "      <th>0</th>\n",
       "      <td>Commercial Services</td>\n",
       "      <td>SPGI</td>\n",
       "      <td>S&amp;P Global Inc.</td>\n",
       "      <td>$     111,125,098,275.50</td>\n",
       "      <td>40.7</td>\n",
       "    </tr>\n",
       "    <tr>\n",
       "      <th>1</th>\n",
       "      <td>Commercial Services</td>\n",
       "      <td>MCO</td>\n",
       "      <td>Moody’s Corporation</td>\n",
       "      <td>$       71,309,376,207.33</td>\n",
       "      <td>35.0</td>\n",
       "    </tr>\n",
       "    <tr>\n",
       "      <th>2</th>\n",
       "      <td>Commercial Services</td>\n",
       "      <td>CPRT</td>\n",
       "      <td>Copart, Inc.</td>\n",
       "      <td>$       34,854,843,266.37</td>\n",
       "      <td>36.6</td>\n",
       "    </tr>\n",
       "    <tr>\n",
       "      <th>3</th>\n",
       "      <td>Commercial Services</td>\n",
       "      <td>EFX</td>\n",
       "      <td>Equifax, Inc.</td>\n",
       "      <td>$       34,648,432,194.28</td>\n",
       "      <td>51.9</td>\n",
       "    </tr>\n",
       "    <tr>\n",
       "      <th>4</th>\n",
       "      <td>Commercial Services</td>\n",
       "      <td>FLT</td>\n",
       "      <td>FleetCor Technologies, Inc.</td>\n",
       "      <td>$       18,765,806,553.47</td>\n",
       "      <td>23.1</td>\n",
       "    </tr>\n",
       "  </tbody>\n",
       "</table>\n",
       "</div>"
      ],
      "text/plain": [
       "                Sector Ticker                      Company  \\\n",
       "0  Commercial Services   SPGI              S&P Global Inc.   \n",
       "1  Commercial Services    MCO          Moody’s Corporation   \n",
       "2  Commercial Services   CPRT                 Copart, Inc.   \n",
       "3  Commercial Services    EFX                Equifax, Inc.   \n",
       "4  Commercial Services    FLT  FleetCor Technologies, Inc.   \n",
       "\n",
       "        Market Capitalization  PE Ratio  \n",
       "0    $     111,125,098,275.50      40.7  \n",
       "1   $       71,309,376,207.33      35.0  \n",
       "2   $       34,854,843,266.37      36.6  \n",
       "3   $       34,648,432,194.28      51.9  \n",
       "4   $       18,765,806,553.47      23.1  "
      ]
     },
     "execution_count": 13,
     "metadata": {},
     "output_type": "execute_result"
    }
   ],
   "source": [
    "dataframe = pd.read_excel(Path(\"SP500_stocks.xlsx\"))\n",
    "dataframe.head()"
   ]
  },
  {
   "cell_type": "code",
   "execution_count": 7,
   "id": "7be4b3d7-cdd0-4b6a-a948-6cacae1729c3",
   "metadata": {},
   "outputs": [
    {
     "data": {
      "text/plain": [
       "Sector                    object\n",
       "Ticker                    object\n",
       "Company                   object\n",
       "Market Capitalization     object\n",
       "PE Ratio                 float64\n",
       "dtype: object"
      ]
     },
     "execution_count": 7,
     "metadata": {},
     "output_type": "execute_result"
    }
   ],
   "source": [
    "dataframe.dtypes"
   ]
  },
  {
   "cell_type": "code",
   "execution_count": 14,
   "id": "a0ea3153-5938-4d9e-82f2-1fd7ee40f067",
   "metadata": {},
   "outputs": [
    {
     "name": "stderr",
     "output_type": "stream",
     "text": [
      "C:\\Users\\tiago\\anaconda3\\envs\\FinTech\\lib\\site-packages\\ipykernel_launcher.py:1: FutureWarning: The default value of regex will change from True to False in a future version. In addition, single character regular expressions will *not* be treated as literal strings when regex=True.\n",
      "  \"\"\"Entry point for launching an IPython kernel.\n"
     ]
    },
    {
     "data": {
      "text/html": [
       "<div>\n",
       "<style scoped>\n",
       "    .dataframe tbody tr th:only-of-type {\n",
       "        vertical-align: middle;\n",
       "    }\n",
       "\n",
       "    .dataframe tbody tr th {\n",
       "        vertical-align: top;\n",
       "    }\n",
       "\n",
       "    .dataframe thead th {\n",
       "        text-align: right;\n",
       "    }\n",
       "</style>\n",
       "<table border=\"1\" class=\"dataframe\">\n",
       "  <thead>\n",
       "    <tr style=\"text-align: right;\">\n",
       "      <th></th>\n",
       "      <th>Sector</th>\n",
       "      <th>Ticker</th>\n",
       "      <th>Company</th>\n",
       "      <th>Market Capitalization</th>\n",
       "      <th>PE Ratio</th>\n",
       "    </tr>\n",
       "  </thead>\n",
       "  <tbody>\n",
       "    <tr>\n",
       "      <th>0</th>\n",
       "      <td>Commercial Services</td>\n",
       "      <td>SPGI</td>\n",
       "      <td>S&amp;P Global Inc.</td>\n",
       "      <td>1.111251e+11</td>\n",
       "      <td>40.7</td>\n",
       "    </tr>\n",
       "    <tr>\n",
       "      <th>1</th>\n",
       "      <td>Commercial Services</td>\n",
       "      <td>MCO</td>\n",
       "      <td>Moody’s Corporation</td>\n",
       "      <td>7.130938e+10</td>\n",
       "      <td>35.0</td>\n",
       "    </tr>\n",
       "    <tr>\n",
       "      <th>2</th>\n",
       "      <td>Commercial Services</td>\n",
       "      <td>CPRT</td>\n",
       "      <td>Copart, Inc.</td>\n",
       "      <td>3.485484e+10</td>\n",
       "      <td>36.6</td>\n",
       "    </tr>\n",
       "    <tr>\n",
       "      <th>3</th>\n",
       "      <td>Commercial Services</td>\n",
       "      <td>EFX</td>\n",
       "      <td>Equifax, Inc.</td>\n",
       "      <td>3.464843e+10</td>\n",
       "      <td>51.9</td>\n",
       "    </tr>\n",
       "    <tr>\n",
       "      <th>4</th>\n",
       "      <td>Commercial Services</td>\n",
       "      <td>FLT</td>\n",
       "      <td>FleetCor Technologies, Inc.</td>\n",
       "      <td>1.876581e+10</td>\n",
       "      <td>23.1</td>\n",
       "    </tr>\n",
       "  </tbody>\n",
       "</table>\n",
       "</div>"
      ],
      "text/plain": [
       "                Sector Ticker                      Company  \\\n",
       "0  Commercial Services   SPGI              S&P Global Inc.   \n",
       "1  Commercial Services    MCO          Moody’s Corporation   \n",
       "2  Commercial Services   CPRT                 Copart, Inc.   \n",
       "3  Commercial Services    EFX                Equifax, Inc.   \n",
       "4  Commercial Services    FLT  FleetCor Technologies, Inc.   \n",
       "\n",
       "   Market Capitalization  PE Ratio  \n",
       "0           1.111251e+11      40.7  \n",
       "1           7.130938e+10      35.0  \n",
       "2           3.485484e+10      36.6  \n",
       "3           3.464843e+10      51.9  \n",
       "4           1.876581e+10      23.1  "
      ]
     },
     "execution_count": 14,
     "metadata": {},
     "output_type": "execute_result"
    }
   ],
   "source": [
    "dataframe['Market Capitalization'] = dataframe['Market Capitalization'].str.replace(\"$\",\"\").replace(\" \",\"\").replace(\",\",\"\",regex = True).astype(float)\n",
    "dataframe.head()"
   ]
  },
  {
   "cell_type": "code",
   "execution_count": null,
   "id": "ce123d01-f6fa-487c-9046-21bd57b3a6f5",
   "metadata": {},
   "outputs": [],
   "source": []
  },
  {
   "cell_type": "code",
   "execution_count": null,
   "id": "4ae63b2b-2d15-4f90-9e43-27be39635764",
   "metadata": {},
   "outputs": [],
   "source": []
  },
  {
   "cell_type": "code",
   "execution_count": null,
   "id": "560f0873-6ff1-4424-8fc3-bffb0c08404a",
   "metadata": {},
   "outputs": [],
   "source": []
  },
  {
   "cell_type": "code",
   "execution_count": null,
   "id": "28640657-0676-4c65-b03f-ebe071b12c52",
   "metadata": {},
   "outputs": [],
   "source": []
  },
  {
   "cell_type": "code",
   "execution_count": null,
   "id": "8f0ecfe7-357b-4bcc-be42-e66c45265cfd",
   "metadata": {},
   "outputs": [],
   "source": []
  },
  {
   "cell_type": "code",
   "execution_count": null,
   "id": "dc3b70b0-24fe-405e-96d8-d7300be3e607",
   "metadata": {},
   "outputs": [],
   "source": []
  },
  {
   "cell_type": "code",
   "execution_count": null,
   "id": "010d136e-7005-4db3-8387-6b131d3e200f",
   "metadata": {},
   "outputs": [],
   "source": []
  },
  {
   "cell_type": "code",
   "execution_count": null,
   "id": "0cfc9f20-e4e6-4546-ac92-91cb7512a0fc",
   "metadata": {},
   "outputs": [],
   "source": []
  },
  {
   "cell_type": "code",
   "execution_count": null,
   "id": "54734dac-7206-4d82-a58a-8611ff03eb4a",
   "metadata": {},
   "outputs": [],
   "source": []
  },
  {
   "cell_type": "code",
   "execution_count": null,
   "id": "2628c33c-c3f7-4465-8648-587f5e92d6fd",
   "metadata": {},
   "outputs": [],
   "source": []
  }
 ],
 "metadata": {
  "kernelspec": {
   "display_name": "FinTech",
   "language": "python",
   "name": "fintech"
  },
  "language_info": {
   "codemirror_mode": {
    "name": "ipython",
    "version": 3
   },
   "file_extension": ".py",
   "mimetype": "text/x-python",
   "name": "python",
   "nbconvert_exporter": "python",
   "pygments_lexer": "ipython3",
   "version": "3.7.11"
  }
 },
 "nbformat": 4,
 "nbformat_minor": 5
}
