{
 "cells": [
  {
   "cell_type": "code",
   "execution_count": null,
   "id": "15b42ec0-d86f-4c89-b8e4-967a67518f8c",
   "metadata": {},
   "outputs": [],
   "source": [
    "#Creating code for app questionare"
   ]
  },
  {
   "cell_type": "code",
   "execution_count": null,
   "id": "80769d1e-c52f-4966-a6a0-976a6a74cd85",
   "metadata": {},
   "outputs": [],
   "source": [
    "from filters.simulator_year import number_of_simulation_years \n",
    "#Hypotetical we need to create modules where this information will have a funciton "
   ]
  },
  {
   "cell_type": "code",
   "execution_count": null,
   "id": "06d12b61-febd-4410-9893-9b9ade34f400",
   "metadata": {},
   "outputs": [],
   "source": [
    "def data2():\n",
    "    \"\"\"Ask for the file path to the latest data and load the CSV file.\n",
    "\n",
    "    Returns:\n",
    "        The  data from the data sheet CSV file.\n",
    "    \"\"\"\n",
    "\n",
    "    csvpath = questionary.text(\"Enter a file path to run simulation (.csv):\").ask()\n",
    "    csvpath = Path(csvpath)\n",
    "    if not csvpath.exists():\n",
    "        sys.exit(f\"Please try again. We can't find this path: {csvpath}\")\n",
    "\n",
    "    return load_csv(csvpath)"
   ]
  },
  {
   "cell_type": "code",
   "execution_count": null,
   "id": "2d6cd716-ff63-4163-8e2d-50abb7608be3",
   "metadata": {},
   "outputs": [],
   "source": [
    "def simulation_info():\n",
    "\n",
    "simulation_years = questionary.text(\"How many years do you want to simulate?\").ask()\n",
    "number_of_simulations = questionary.text(\"How many simulations do you want to run?\").ask()\n",
    "investment_amount = questionary.text(\"How much do you want to invest?\").ask()\n",
    "\n",
    "return simulation_years, number_of_simulations, investment_amount"
   ]
  },
  {
   "cell_type": "code",
   "execution_count": null,
   "id": "7dc09312-affb-4c5f-9768-08bc1468318f",
   "metadata": {},
   "outputs": [],
   "source": [
    "simulation_years = int(simulation_years)\n",
    "number_of_simulations = int(number_of_simulations)\n",
    "investment_amount = float(investment_amount)"
   ]
  },
  {
   "cell_type": "code",
   "execution_count": null,
   "id": "3e7bba45-c24d-4e17-a1b1-1db4137a19ff",
   "metadata": {},
   "outputs": [],
   "source": [
    "\n",
    "def save_output(simulation):\n",
    "    \"\"\"Saves the Montecarlo Simulations to a CSV file.\n",
    "    \"\"\"\n",
    "    #usability dialog for savings the CSV Files.\n",
    "    answer = questionary.text(\"Do you want to save a list of your output? (yes/no)\").ask()\n",
    "    \n",
    "    if answer == \"yes\":\n",
    "        file_location = questionary.text(\"Where would you like to locate yout file? (input file location)\").ask()\n",
    "        csvpath = Path('./output/simulation.csv')\n",
    "        save_csv(csvpath, simulation)"
   ]
  }
 ],
 "metadata": {
  "kernelspec": {
   "display_name": "Python 3 (ipykernel)",
   "language": "python",
   "name": "python3"
  },
  "language_info": {
   "codemirror_mode": {
    "name": "ipython",
    "version": 3
   },
   "file_extension": ".py",
   "mimetype": "text/x-python",
   "name": "python",
   "nbconvert_exporter": "python",
   "pygments_lexer": "ipython3",
   "version": "3.7.11"
  }
 },
 "nbformat": 4,
 "nbformat_minor": 5
}
