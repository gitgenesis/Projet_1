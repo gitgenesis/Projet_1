{
 "cells": [
  {
   "cell_type": "code",
   "execution_count": null,
   "id": "15b42ec0-d86f-4c89-b8e4-967a67518f8c",
   "metadata": {},
   "outputs": [],
   "source": [
    "#Creating code for app questionare"
   ]
  }
 ],
 "metadata": {
  "kernelspec": {
   "display_name": "Python 3 (ipykernel)",
   "language": "python",
   "name": "python3"
  },
  "language_info": {
   "codemirror_mode": {
    "name": "ipython",
    "version": 3
   },
   "file_extension": ".py",
   "mimetype": "text/x-python",
   "name": "python",
   "nbconvert_exporter": "python",
   "pygments_lexer": "ipython3",
   "version": "3.7.11"
  }
 },
 "nbformat": 4,
 "nbformat_minor": 5
}
