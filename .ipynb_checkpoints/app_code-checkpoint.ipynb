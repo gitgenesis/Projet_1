{
 "cells": [
  {
   "cell_type": "code",
   "execution_count": null,
   "id": "15b42ec0-d86f-4c89-b8e4-967a67518f8c",
   "metadata": {},
   "outputs": [],
   "source": [
    "#Creating code for app questionare"
   ]
  },
  {
   "cell_type": "code",
   "execution_count": null,
   "id": "80769d1e-c52f-4966-a6a0-976a6a74cd85",
   "metadata": {},
   "outputs": [],
   "source": [
    "from filters.simulator_year import number_of_simulation_years \n",
    "#Hypotetical we need to create modules where this information will have a funciton "
   ]
  },
  {
   "cell_type": "code",
   "execution_count": null,
   "id": "2d6cd716-ff63-4163-8e2d-50abb7608be3",
   "metadata": {},
   "outputs": [],
   "source": [
    "simulation_years = questionary.text(\"How many years do you want to simulate?\").ask()\n",
    "number_of_simulations = questionary.text(\"How many simulations do you want to run?\").ask()\n",
    "investment_amount = questionary.text(\"How much do you want to invest?\").ask()"
   ]
  },
  {
   "cell_type": "code",
   "execution_count": null,
   "id": "7dc09312-affb-4c5f-9768-08bc1468318f",
   "metadata": {},
   "outputs": [],
   "source": [
    "simulation_years = int(simulation_years)\n",
    "number_of_simulations = int(number_of_simulations)\n",
    "investment_amount = float(investment_amount)"
   ]
  }
 ],
 "metadata": {
  "kernelspec": {
   "display_name": "Python 3 (ipykernel)",
   "language": "python",
   "name": "python3"
  },
  "language_info": {
   "codemirror_mode": {
    "name": "ipython",
    "version": 3
   },
   "file_extension": ".py",
   "mimetype": "text/x-python",
   "name": "python",
   "nbconvert_exporter": "python",
   "pygments_lexer": "ipython3",
   "version": "3.7.11"
  }
 },
 "nbformat": 4,
 "nbformat_minor": 5
}
