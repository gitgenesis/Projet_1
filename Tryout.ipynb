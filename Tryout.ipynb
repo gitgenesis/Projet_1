{
 "cells": [
  {
   "cell_type": "code",
   "execution_count": 1,
   "id": "ad4ae768-f916-419e-a46f-2cd9b695c5d0",
   "metadata": {},
   "outputs": [],
   "source": [
    "# Import the required libraries and dependencies\n",
    "import pandas as pd\n",
    "from pathlib import Path\n",
    "import os\n",
    "import requests\n",
    "from MCForecastTools import MCSimulation\n",
    "from datetime import date\n",
    "from datetime import timedelta\n",
    "\n",
    "%matplotlib inline"
   ]
  },
  {
   "cell_type": "code",
   "execution_count": 2,
   "id": "93f536c9-bb4f-4407-914f-a13ae704e3c2",
   "metadata": {},
   "outputs": [
    {
     "data": {
      "text/html": [
       "<div>\n",
       "<style scoped>\n",
       "    .dataframe tbody tr th:only-of-type {\n",
       "        vertical-align: middle;\n",
       "    }\n",
       "\n",
       "    .dataframe tbody tr th {\n",
       "        vertical-align: top;\n",
       "    }\n",
       "\n",
       "    .dataframe thead th {\n",
       "        text-align: right;\n",
       "    }\n",
       "</style>\n",
       "<table border=\"1\" class=\"dataframe\">\n",
       "  <thead>\n",
       "    <tr style=\"text-align: right;\">\n",
       "      <th></th>\n",
       "      <th>Date</th>\n",
       "      <th>SPY</th>\n",
       "      <th>CPI Index</th>\n",
       "      <th>10-Year Rate</th>\n",
       "      <th>30-Year Rate</th>\n",
       "    </tr>\n",
       "  </thead>\n",
       "  <tbody>\n",
       "    <tr>\n",
       "      <th>0</th>\n",
       "      <td>5/5/1980</td>\n",
       "      <td>106.38</td>\n",
       "      <td>80.9</td>\n",
       "      <td>10.18%</td>\n",
       "      <td>10.35%</td>\n",
       "    </tr>\n",
       "    <tr>\n",
       "      <th>1</th>\n",
       "      <td>5/6/1980</td>\n",
       "      <td>106.25</td>\n",
       "      <td>80.9</td>\n",
       "      <td>9.80%</td>\n",
       "      <td>10.23%</td>\n",
       "    </tr>\n",
       "    <tr>\n",
       "      <th>2</th>\n",
       "      <td>5/7/1980</td>\n",
       "      <td>107.18</td>\n",
       "      <td>80.9</td>\n",
       "      <td>9.96%</td>\n",
       "      <td>10.19%</td>\n",
       "    </tr>\n",
       "    <tr>\n",
       "      <th>3</th>\n",
       "      <td>5/8/1980</td>\n",
       "      <td>106.13</td>\n",
       "      <td>80.9</td>\n",
       "      <td>10.18%</td>\n",
       "      <td>10.34%</td>\n",
       "    </tr>\n",
       "    <tr>\n",
       "      <th>4</th>\n",
       "      <td>5/9/1980</td>\n",
       "      <td>104.72</td>\n",
       "      <td>80.9</td>\n",
       "      <td>10.30%</td>\n",
       "      <td>10.41%</td>\n",
       "    </tr>\n",
       "  </tbody>\n",
       "</table>\n",
       "</div>"
      ],
      "text/plain": [
       "       Date     SPY  CPI Index 10-Year Rate 30-Year Rate\n",
       "0  5/5/1980  106.38       80.9       10.18%       10.35%\n",
       "1  5/6/1980  106.25       80.9        9.80%       10.23%\n",
       "2  5/7/1980  107.18       80.9        9.96%       10.19%\n",
       "3  5/8/1980  106.13       80.9       10.18%       10.34%\n",
       "4  5/9/1980  104.72       80.9       10.30%       10.41%"
      ]
     },
     "execution_count": 2,
     "metadata": {},
     "output_type": "execute_result"
    }
   ],
   "source": [
    "# import data from CSV file\n",
    "\n",
    "data_df = pd.read_csv(Path(\"Index Data - CIQ - 05.04.22.csv\"))\n",
    "data_df.head()"
   ]
  },
  {
   "cell_type": "code",
   "execution_count": 3,
   "id": "7393ded9-6d90-4753-83f7-681a793d8a50",
   "metadata": {},
   "outputs": [
    {
     "data": {
      "text/html": [
       "<div>\n",
       "<style scoped>\n",
       "    .dataframe tbody tr th:only-of-type {\n",
       "        vertical-align: middle;\n",
       "    }\n",
       "\n",
       "    .dataframe tbody tr th {\n",
       "        vertical-align: top;\n",
       "    }\n",
       "\n",
       "    .dataframe thead th {\n",
       "        text-align: right;\n",
       "    }\n",
       "</style>\n",
       "<table border=\"1\" class=\"dataframe\">\n",
       "  <thead>\n",
       "    <tr style=\"text-align: right;\">\n",
       "      <th></th>\n",
       "      <th>SPY</th>\n",
       "      <th>CPI Index</th>\n",
       "      <th>10-Year Rate</th>\n",
       "      <th>30-Year Rate</th>\n",
       "    </tr>\n",
       "    <tr>\n",
       "      <th>Date</th>\n",
       "      <th></th>\n",
       "      <th></th>\n",
       "      <th></th>\n",
       "      <th></th>\n",
       "    </tr>\n",
       "  </thead>\n",
       "  <tbody>\n",
       "    <tr>\n",
       "      <th>5/5/1980</th>\n",
       "      <td>106.38</td>\n",
       "      <td>80.9</td>\n",
       "      <td>10.18%</td>\n",
       "      <td>10.35%</td>\n",
       "    </tr>\n",
       "    <tr>\n",
       "      <th>5/6/1980</th>\n",
       "      <td>106.25</td>\n",
       "      <td>80.9</td>\n",
       "      <td>9.80%</td>\n",
       "      <td>10.23%</td>\n",
       "    </tr>\n",
       "    <tr>\n",
       "      <th>5/7/1980</th>\n",
       "      <td>107.18</td>\n",
       "      <td>80.9</td>\n",
       "      <td>9.96%</td>\n",
       "      <td>10.19%</td>\n",
       "    </tr>\n",
       "    <tr>\n",
       "      <th>5/8/1980</th>\n",
       "      <td>106.13</td>\n",
       "      <td>80.9</td>\n",
       "      <td>10.18%</td>\n",
       "      <td>10.34%</td>\n",
       "    </tr>\n",
       "    <tr>\n",
       "      <th>5/9/1980</th>\n",
       "      <td>104.72</td>\n",
       "      <td>80.9</td>\n",
       "      <td>10.30%</td>\n",
       "      <td>10.41%</td>\n",
       "    </tr>\n",
       "  </tbody>\n",
       "</table>\n",
       "</div>"
      ],
      "text/plain": [
       "             SPY  CPI Index 10-Year Rate 30-Year Rate\n",
       "Date                                                 \n",
       "5/5/1980  106.38       80.9       10.18%       10.35%\n",
       "5/6/1980  106.25       80.9        9.80%       10.23%\n",
       "5/7/1980  107.18       80.9        9.96%       10.19%\n",
       "5/8/1980  106.13       80.9       10.18%       10.34%\n",
       "5/9/1980  104.72       80.9       10.30%       10.41%"
      ]
     },
     "execution_count": 3,
     "metadata": {},
     "output_type": "execute_result"
    }
   ],
   "source": [
    "# set Date as index for the dataframe\n",
    "\n",
    "data_df = data_df.set_index('Date')\n",
    "\n",
    "# Display first and last 5 rows of dataframe\n",
    "data_df.head()"
   ]
  },
  {
   "cell_type": "code",
   "execution_count": 4,
   "id": "e888aeaf-ff36-4364-8cd8-4f01b3c460f1",
   "metadata": {},
   "outputs": [
    {
     "data": {
      "text/html": [
       "<div>\n",
       "<style scoped>\n",
       "    .dataframe tbody tr th:only-of-type {\n",
       "        vertical-align: middle;\n",
       "    }\n",
       "\n",
       "    .dataframe tbody tr th {\n",
       "        vertical-align: top;\n",
       "    }\n",
       "\n",
       "    .dataframe thead th {\n",
       "        text-align: right;\n",
       "    }\n",
       "</style>\n",
       "<table border=\"1\" class=\"dataframe\">\n",
       "  <thead>\n",
       "    <tr style=\"text-align: right;\">\n",
       "      <th></th>\n",
       "      <th>SPY</th>\n",
       "      <th>CPI Index</th>\n",
       "      <th>10-Year Rate</th>\n",
       "      <th>30-Year Rate</th>\n",
       "    </tr>\n",
       "    <tr>\n",
       "      <th>Date</th>\n",
       "      <th></th>\n",
       "      <th></th>\n",
       "      <th></th>\n",
       "      <th></th>\n",
       "    </tr>\n",
       "  </thead>\n",
       "  <tbody>\n",
       "    <tr>\n",
       "      <th>4/28/2022</th>\n",
       "      <td>4,287.50</td>\n",
       "      <td>287.71</td>\n",
       "      <td>2.85%</td>\n",
       "      <td>2.92%</td>\n",
       "    </tr>\n",
       "    <tr>\n",
       "      <th>4/29/2022</th>\n",
       "      <td>4,131.93</td>\n",
       "      <td>287.71</td>\n",
       "      <td>2.89%</td>\n",
       "      <td>2.96%</td>\n",
       "    </tr>\n",
       "    <tr>\n",
       "      <th>5/2/2022</th>\n",
       "      <td>4,155.38</td>\n",
       "      <td>287.71</td>\n",
       "      <td>2.99%</td>\n",
       "      <td>3.07%</td>\n",
       "    </tr>\n",
       "    <tr>\n",
       "      <th>5/3/2022</th>\n",
       "      <td>4,175.48</td>\n",
       "      <td>287.71</td>\n",
       "      <td>2.97%</td>\n",
       "      <td>3.03%</td>\n",
       "    </tr>\n",
       "    <tr>\n",
       "      <th>5/4/2022</th>\n",
       "      <td>4,300.17</td>\n",
       "      <td>287.71</td>\n",
       "      <td>2.93%</td>\n",
       "      <td>3.01%</td>\n",
       "    </tr>\n",
       "  </tbody>\n",
       "</table>\n",
       "</div>"
      ],
      "text/plain": [
       "                SPY  CPI Index 10-Year Rate 30-Year Rate\n",
       "Date                                                    \n",
       "4/28/2022  4,287.50     287.71        2.85%        2.92%\n",
       "4/29/2022  4,131.93     287.71        2.89%        2.96%\n",
       "5/2/2022   4,155.38     287.71        2.99%        3.07%\n",
       "5/3/2022   4,175.48     287.71        2.97%        3.03%\n",
       "5/4/2022   4,300.17     287.71        2.93%        3.01%"
      ]
     },
     "execution_count": 4,
     "metadata": {},
     "output_type": "execute_result"
    }
   ],
   "source": [
    "data_df.tail()"
   ]
  },
  {
   "cell_type": "code",
   "execution_count": 5,
   "id": "06248369-17a3-4bca-91a4-72b3f0c63c8f",
   "metadata": {},
   "outputs": [
    {
     "data": {
      "text/plain": [
       "SPY              object\n",
       "CPI Index       float64\n",
       "10-Year Rate     object\n",
       "30-Year Rate     object\n",
       "dtype: object"
      ]
     },
     "execution_count": 5,
     "metadata": {},
     "output_type": "execute_result"
    }
   ],
   "source": [
    "# Display data types\n",
    "\n",
    "data_df.dtypes"
   ]
  },
  {
   "cell_type": "code",
   "execution_count": 6,
   "id": "0074fcb7-7185-45cf-bbea-a647632982dd",
   "metadata": {},
   "outputs": [],
   "source": [
    "# cleanup data replace % sign in [\"10-Year Rate\"] and [\"10-Year Rate\"] columns, change data types to float \n",
    "# clean up thousandth commas of ['SPY'] columns\n",
    "\n",
    "data_df['10-Year Rate'] = data_df['10-Year Rate'].str.replace(\"%\",\"\",regex = True).astype(float)\n",
    "data_df['30-Year Rate'] = data_df['30-Year Rate'].str.replace(\"%\",\"\",regex = True).astype(float)\n",
    "data_df['SPY'] = data_df['SPY'].str.replace(\",\",\"\",regex = True).astype(float)"
   ]
  },
  {
   "cell_type": "code",
   "execution_count": 7,
   "id": "c35e6cd0-1f5f-46fe-addb-71b83c7fe2d0",
   "metadata": {},
   "outputs": [
    {
     "data": {
      "text/plain": [
       "SPY             float64\n",
       "CPI Index       float64\n",
       "10-Year Rate    float64\n",
       "30-Year Rate    float64\n",
       "dtype: object"
      ]
     },
     "execution_count": 7,
     "metadata": {},
     "output_type": "execute_result"
    }
   ],
   "source": [
    "# Display data types\n",
    "\n",
    "data_df.dtypes"
   ]
  },
  {
   "cell_type": "code",
   "execution_count": 8,
   "id": "d7341ad7-5d8f-497c-a3fb-e0e0d54207f5",
   "metadata": {},
   "outputs": [
    {
     "data": {
      "text/html": [
       "<div>\n",
       "<style scoped>\n",
       "    .dataframe tbody tr th:only-of-type {\n",
       "        vertical-align: middle;\n",
       "    }\n",
       "\n",
       "    .dataframe tbody tr th {\n",
       "        vertical-align: top;\n",
       "    }\n",
       "\n",
       "    .dataframe thead th {\n",
       "        text-align: right;\n",
       "    }\n",
       "</style>\n",
       "<table border=\"1\" class=\"dataframe\">\n",
       "  <thead>\n",
       "    <tr style=\"text-align: right;\">\n",
       "      <th></th>\n",
       "      <th>SPY</th>\n",
       "      <th>CPI Index</th>\n",
       "      <th>10-Year Rate</th>\n",
       "      <th>30-Year Rate</th>\n",
       "    </tr>\n",
       "    <tr>\n",
       "      <th>Date</th>\n",
       "      <th></th>\n",
       "      <th></th>\n",
       "      <th></th>\n",
       "      <th></th>\n",
       "    </tr>\n",
       "  </thead>\n",
       "  <tbody>\n",
       "    <tr>\n",
       "      <th>5/5/1980</th>\n",
       "      <td>106.38</td>\n",
       "      <td>80.9</td>\n",
       "      <td>10.18</td>\n",
       "      <td>10.35</td>\n",
       "    </tr>\n",
       "    <tr>\n",
       "      <th>5/6/1980</th>\n",
       "      <td>106.25</td>\n",
       "      <td>80.9</td>\n",
       "      <td>9.80</td>\n",
       "      <td>10.23</td>\n",
       "    </tr>\n",
       "    <tr>\n",
       "      <th>5/7/1980</th>\n",
       "      <td>107.18</td>\n",
       "      <td>80.9</td>\n",
       "      <td>9.96</td>\n",
       "      <td>10.19</td>\n",
       "    </tr>\n",
       "    <tr>\n",
       "      <th>5/8/1980</th>\n",
       "      <td>106.13</td>\n",
       "      <td>80.9</td>\n",
       "      <td>10.18</td>\n",
       "      <td>10.34</td>\n",
       "    </tr>\n",
       "    <tr>\n",
       "      <th>5/9/1980</th>\n",
       "      <td>104.72</td>\n",
       "      <td>80.9</td>\n",
       "      <td>10.30</td>\n",
       "      <td>10.41</td>\n",
       "    </tr>\n",
       "  </tbody>\n",
       "</table>\n",
       "</div>"
      ],
      "text/plain": [
       "             SPY  CPI Index  10-Year Rate  30-Year Rate\n",
       "Date                                                   \n",
       "5/5/1980  106.38       80.9         10.18         10.35\n",
       "5/6/1980  106.25       80.9          9.80         10.23\n",
       "5/7/1980  107.18       80.9          9.96         10.19\n",
       "5/8/1980  106.13       80.9         10.18         10.34\n",
       "5/9/1980  104.72       80.9         10.30         10.41"
      ]
     },
     "metadata": {},
     "output_type": "display_data"
    },
    {
     "data": {
      "text/html": [
       "<div>\n",
       "<style scoped>\n",
       "    .dataframe tbody tr th:only-of-type {\n",
       "        vertical-align: middle;\n",
       "    }\n",
       "\n",
       "    .dataframe tbody tr th {\n",
       "        vertical-align: top;\n",
       "    }\n",
       "\n",
       "    .dataframe thead th {\n",
       "        text-align: right;\n",
       "    }\n",
       "</style>\n",
       "<table border=\"1\" class=\"dataframe\">\n",
       "  <thead>\n",
       "    <tr style=\"text-align: right;\">\n",
       "      <th></th>\n",
       "      <th>SPY</th>\n",
       "      <th>CPI Index</th>\n",
       "      <th>10-Year Rate</th>\n",
       "      <th>30-Year Rate</th>\n",
       "    </tr>\n",
       "    <tr>\n",
       "      <th>Date</th>\n",
       "      <th></th>\n",
       "      <th></th>\n",
       "      <th></th>\n",
       "      <th></th>\n",
       "    </tr>\n",
       "  </thead>\n",
       "  <tbody>\n",
       "    <tr>\n",
       "      <th>4/28/2022</th>\n",
       "      <td>4287.50</td>\n",
       "      <td>287.71</td>\n",
       "      <td>2.85</td>\n",
       "      <td>2.92</td>\n",
       "    </tr>\n",
       "    <tr>\n",
       "      <th>4/29/2022</th>\n",
       "      <td>4131.93</td>\n",
       "      <td>287.71</td>\n",
       "      <td>2.89</td>\n",
       "      <td>2.96</td>\n",
       "    </tr>\n",
       "    <tr>\n",
       "      <th>5/2/2022</th>\n",
       "      <td>4155.38</td>\n",
       "      <td>287.71</td>\n",
       "      <td>2.99</td>\n",
       "      <td>3.07</td>\n",
       "    </tr>\n",
       "    <tr>\n",
       "      <th>5/3/2022</th>\n",
       "      <td>4175.48</td>\n",
       "      <td>287.71</td>\n",
       "      <td>2.97</td>\n",
       "      <td>3.03</td>\n",
       "    </tr>\n",
       "    <tr>\n",
       "      <th>5/4/2022</th>\n",
       "      <td>4300.17</td>\n",
       "      <td>287.71</td>\n",
       "      <td>2.93</td>\n",
       "      <td>3.01</td>\n",
       "    </tr>\n",
       "  </tbody>\n",
       "</table>\n",
       "</div>"
      ],
      "text/plain": [
       "               SPY  CPI Index  10-Year Rate  30-Year Rate\n",
       "Date                                                     \n",
       "4/28/2022  4287.50     287.71          2.85          2.92\n",
       "4/29/2022  4131.93     287.71          2.89          2.96\n",
       "5/2/2022   4155.38     287.71          2.99          3.07\n",
       "5/3/2022   4175.48     287.71          2.97          3.03\n",
       "5/4/2022   4300.17     287.71          2.93          3.01"
      ]
     },
     "metadata": {},
     "output_type": "display_data"
    }
   ],
   "source": [
    "# Display dataframe\n",
    "display (data_df.head())\n",
    "display (data_df.tail())"
   ]
  },
  {
   "cell_type": "code",
   "execution_count": 9,
   "id": "5adec153-e35b-429a-8319-317869ae28e6",
   "metadata": {},
   "outputs": [],
   "source": [
    "# Rename ['SPY'] column to ['close']\n",
    "\n",
    "SPY = pd.DataFrame(data_df['SPY'])\n",
    "SPY.columns = ['close']"
   ]
  },
  {
   "cell_type": "code",
   "execution_count": 10,
   "id": "3e4c8676-ed4e-408a-a927-8f27c5e8aa4e",
   "metadata": {},
   "outputs": [
    {
     "data": {
      "text/html": [
       "<div>\n",
       "<style scoped>\n",
       "    .dataframe tbody tr th:only-of-type {\n",
       "        vertical-align: middle;\n",
       "    }\n",
       "\n",
       "    .dataframe tbody tr th {\n",
       "        vertical-align: top;\n",
       "    }\n",
       "\n",
       "    .dataframe thead tr th {\n",
       "        text-align: left;\n",
       "    }\n",
       "\n",
       "    .dataframe thead tr:last-of-type th {\n",
       "        text-align: right;\n",
       "    }\n",
       "</style>\n",
       "<table border=\"1\" class=\"dataframe\">\n",
       "  <thead>\n",
       "    <tr>\n",
       "      <th></th>\n",
       "      <th>SPY</th>\n",
       "    </tr>\n",
       "    <tr>\n",
       "      <th></th>\n",
       "      <th>close</th>\n",
       "    </tr>\n",
       "    <tr>\n",
       "      <th>Date</th>\n",
       "      <th></th>\n",
       "    </tr>\n",
       "  </thead>\n",
       "  <tbody>\n",
       "    <tr>\n",
       "      <th>5/5/1980</th>\n",
       "      <td>106.38</td>\n",
       "    </tr>\n",
       "    <tr>\n",
       "      <th>5/6/1980</th>\n",
       "      <td>106.25</td>\n",
       "    </tr>\n",
       "    <tr>\n",
       "      <th>5/7/1980</th>\n",
       "      <td>107.18</td>\n",
       "    </tr>\n",
       "    <tr>\n",
       "      <th>5/8/1980</th>\n",
       "      <td>106.13</td>\n",
       "    </tr>\n",
       "    <tr>\n",
       "      <th>5/9/1980</th>\n",
       "      <td>104.72</td>\n",
       "    </tr>\n",
       "  </tbody>\n",
       "</table>\n",
       "</div>"
      ],
      "text/plain": [
       "             SPY\n",
       "           close\n",
       "Date            \n",
       "5/5/1980  106.38\n",
       "5/6/1980  106.25\n",
       "5/7/1980  107.18\n",
       "5/8/1980  106.13\n",
       "5/9/1980  104.72"
      ]
     },
     "execution_count": 10,
     "metadata": {},
     "output_type": "execute_result"
    }
   ],
   "source": [
    "final = pd.concat([SPY],axis=1,keys = ['SPY'])\n",
    "final.head()"
   ]
  },
  {
   "cell_type": "code",
   "execution_count": 11,
   "id": "410f51ac-acc4-48df-a29d-bbc6d6723308",
   "metadata": {},
   "outputs": [
    {
     "data": {
      "text/html": [
       "<div>\n",
       "<style scoped>\n",
       "    .dataframe tbody tr th:only-of-type {\n",
       "        vertical-align: middle;\n",
       "    }\n",
       "\n",
       "    .dataframe tbody tr th {\n",
       "        vertical-align: top;\n",
       "    }\n",
       "\n",
       "    .dataframe thead th {\n",
       "        text-align: right;\n",
       "    }\n",
       "</style>\n",
       "<table border=\"1\" class=\"dataframe\">\n",
       "  <thead>\n",
       "    <tr style=\"text-align: right;\">\n",
       "      <th></th>\n",
       "      <th>close</th>\n",
       "    </tr>\n",
       "    <tr>\n",
       "      <th>Date</th>\n",
       "      <th></th>\n",
       "    </tr>\n",
       "  </thead>\n",
       "  <tbody>\n",
       "    <tr>\n",
       "      <th>5/5/1980</th>\n",
       "      <td>106.38</td>\n",
       "    </tr>\n",
       "    <tr>\n",
       "      <th>5/6/1980</th>\n",
       "      <td>106.25</td>\n",
       "    </tr>\n",
       "    <tr>\n",
       "      <th>5/7/1980</th>\n",
       "      <td>107.18</td>\n",
       "    </tr>\n",
       "    <tr>\n",
       "      <th>5/8/1980</th>\n",
       "      <td>106.13</td>\n",
       "    </tr>\n",
       "    <tr>\n",
       "      <th>5/9/1980</th>\n",
       "      <td>104.72</td>\n",
       "    </tr>\n",
       "  </tbody>\n",
       "</table>\n",
       "</div>"
      ],
      "text/plain": [
       "           close\n",
       "Date            \n",
       "5/5/1980  106.38\n",
       "5/6/1980  106.25\n",
       "5/7/1980  107.18\n",
       "5/8/1980  106.13\n",
       "5/9/1980  104.72"
      ]
     },
     "execution_count": 11,
     "metadata": {},
     "output_type": "execute_result"
    }
   ],
   "source": [
    "SPY = final['SPY']\n",
    "SPY.head()"
   ]
  },
  {
   "cell_type": "code",
   "execution_count": 12,
   "id": "e95248f6-46c0-4367-8dd6-aa61caf8dc2c",
   "metadata": {},
   "outputs": [],
   "source": [
    "# Configure the Monte Carlo simulation to forecast 5 years cumulative returns\n",
    "# The weights being at 100% SPY.\n",
    "# Run 500 samples.\n",
    "\n",
    "MC_fiveyear = MCSimulation(portfolio_data = final,\n",
    "                           num_simulation = 500,\n",
    "                           num_trading_days = 252*5\n",
    "                          )"
   ]
  },
  {
   "cell_type": "code",
   "execution_count": 16,
   "id": "6f6fd7ee-2324-4858-ad28-8033fcbf1e56",
   "metadata": {},
   "outputs": [
    {
     "data": {
      "text/html": [
       "<div>\n",
       "<style scoped>\n",
       "    .dataframe tbody tr th:only-of-type {\n",
       "        vertical-align: middle;\n",
       "    }\n",
       "\n",
       "    .dataframe tbody tr th {\n",
       "        vertical-align: top;\n",
       "    }\n",
       "\n",
       "    .dataframe thead tr th {\n",
       "        text-align: left;\n",
       "    }\n",
       "\n",
       "    .dataframe thead tr:last-of-type th {\n",
       "        text-align: right;\n",
       "    }\n",
       "</style>\n",
       "<table border=\"1\" class=\"dataframe\">\n",
       "  <thead>\n",
       "    <tr>\n",
       "      <th></th>\n",
       "      <th colspan=\"2\" halign=\"left\">SPY</th>\n",
       "    </tr>\n",
       "    <tr>\n",
       "      <th></th>\n",
       "      <th>close</th>\n",
       "      <th>daily_return</th>\n",
       "    </tr>\n",
       "    <tr>\n",
       "      <th>Date</th>\n",
       "      <th></th>\n",
       "      <th></th>\n",
       "    </tr>\n",
       "  </thead>\n",
       "  <tbody>\n",
       "    <tr>\n",
       "      <th>5/6/1980</th>\n",
       "      <td>106.25</td>\n",
       "      <td>-0.001222</td>\n",
       "    </tr>\n",
       "    <tr>\n",
       "      <th>5/7/1980</th>\n",
       "      <td>107.18</td>\n",
       "      <td>0.008753</td>\n",
       "    </tr>\n",
       "    <tr>\n",
       "      <th>5/8/1980</th>\n",
       "      <td>106.13</td>\n",
       "      <td>-0.009797</td>\n",
       "    </tr>\n",
       "    <tr>\n",
       "      <th>5/9/1980</th>\n",
       "      <td>104.72</td>\n",
       "      <td>-0.013286</td>\n",
       "    </tr>\n",
       "  </tbody>\n",
       "</table>\n",
       "</div>"
      ],
      "text/plain": [
       "             SPY             \n",
       "           close daily_return\n",
       "Date                         \n",
       "5/6/1980  106.25    -0.001222\n",
       "5/7/1980  107.18     0.008753\n",
       "5/8/1980  106.13    -0.009797\n",
       "5/9/1980  104.72    -0.013286"
      ]
     },
     "execution_count": 16,
     "metadata": {},
     "output_type": "execute_result"
    }
   ],
   "source": [
    "'''\n",
    "# Review the Monte Carlo simulation input data\n",
    "MC_fiveyear.portfolio_data.head().dropna()\n",
    "'''"
   ]
  },
  {
   "cell_type": "code",
   "execution_count": 17,
   "id": "6904d96d-ee95-4f34-8b57-ac2616199e1b",
   "metadata": {},
   "outputs": [
    {
     "name": "stdout",
     "output_type": "stream",
     "text": [
      "Running Monte Carlo simulation number 0.\n",
      "Running Monte Carlo simulation number 10.\n",
      "Running Monte Carlo simulation number 20.\n",
      "Running Monte Carlo simulation number 30.\n",
      "Running Monte Carlo simulation number 40.\n",
      "Running Monte Carlo simulation number 50.\n",
      "Running Monte Carlo simulation number 60.\n",
      "Running Monte Carlo simulation number 70.\n",
      "Running Monte Carlo simulation number 80.\n",
      "Running Monte Carlo simulation number 90.\n",
      "Running Monte Carlo simulation number 100.\n"
     ]
    },
    {
     "name": "stderr",
     "output_type": "stream",
     "text": [
      "/Users/genesis/Desktop/Fintech-Workspace/Mod8_Challenge/Project_1/FinTechP01/MCForecastTools.py:117: PerformanceWarning: DataFrame is highly fragmented.  This is usually the result of calling `frame.insert` many times, which has poor performance.  Consider joining all columns at once using pd.concat(axis=1) instead.  To get a de-fragmented frame, use `newframe = frame.copy()`\n",
      "  portfolio_cumulative_returns[n] = (1 + sim_df.fillna(0)).cumprod()\n"
     ]
    },
    {
     "name": "stdout",
     "output_type": "stream",
     "text": [
      "Running Monte Carlo simulation number 110.\n",
      "Running Monte Carlo simulation number 120.\n",
      "Running Monte Carlo simulation number 130.\n",
      "Running Monte Carlo simulation number 140.\n",
      "Running Monte Carlo simulation number 150.\n",
      "Running Monte Carlo simulation number 160.\n",
      "Running Monte Carlo simulation number 170.\n",
      "Running Monte Carlo simulation number 180.\n",
      "Running Monte Carlo simulation number 190.\n",
      "Running Monte Carlo simulation number 200.\n",
      "Running Monte Carlo simulation number 210.\n",
      "Running Monte Carlo simulation number 220.\n",
      "Running Monte Carlo simulation number 230.\n",
      "Running Monte Carlo simulation number 240.\n",
      "Running Monte Carlo simulation number 250.\n",
      "Running Monte Carlo simulation number 260.\n",
      "Running Monte Carlo simulation number 270.\n",
      "Running Monte Carlo simulation number 280.\n",
      "Running Monte Carlo simulation number 290.\n",
      "Running Monte Carlo simulation number 300.\n",
      "Running Monte Carlo simulation number 310.\n",
      "Running Monte Carlo simulation number 320.\n",
      "Running Monte Carlo simulation number 330.\n",
      "Running Monte Carlo simulation number 340.\n",
      "Running Monte Carlo simulation number 350.\n",
      "Running Monte Carlo simulation number 360.\n",
      "Running Monte Carlo simulation number 370.\n",
      "Running Monte Carlo simulation number 380.\n",
      "Running Monte Carlo simulation number 390.\n",
      "Running Monte Carlo simulation number 400.\n",
      "Running Monte Carlo simulation number 410.\n",
      "Running Monte Carlo simulation number 420.\n",
      "Running Monte Carlo simulation number 430.\n",
      "Running Monte Carlo simulation number 440.\n",
      "Running Monte Carlo simulation number 450.\n",
      "Running Monte Carlo simulation number 460.\n",
      "Running Monte Carlo simulation number 470.\n",
      "Running Monte Carlo simulation number 480.\n",
      "Running Monte Carlo simulation number 490.\n"
     ]
    }
   ],
   "source": [
    "# Run the Monte Carlo simulation, forecast 5 years cumulative returns\n",
    "\n",
    "data = MC_fiveyear.calc_cumulative_return()"
   ]
  },
  {
   "cell_type": "code",
   "execution_count": 18,
   "id": "71385dfb-7151-4274-80eb-ddf3efbfa020",
   "metadata": {},
   "outputs": [
    {
     "data": {
      "text/plain": [
       "<AxesSubplot:title={'center':'500 Simulations of Cumulative Portfolio Return Trajectories Over the Next 1260 Trading Days.'}>"
      ]
     },
     "execution_count": 18,
     "metadata": {},
     "output_type": "execute_result"
    },
    {
     "data": {
      "image/png": "[encoded data removed]",
      "text/plain": [
       "<Figure size 432x288 with 1 Axes>"
      ]
     },
     "metadata": {
      "needs_background": "light"
     },
     "output_type": "display_data"
    }
   ],
   "source": [
    "# visualize the Five years Monte Carlo simulation by using an overlay line plot simulation\n",
    "\n",
    "MC_fiveyear.plot_simulation()"
   ]
  },
  {
   "cell_type": "code",
   "execution_count": 19,
   "id": "14216386-8130-46ee-b154-0d7877b78c2e",
   "metadata": {},
   "outputs": [
    {
     "data": {
      "text/plain": [
       "<AxesSubplot:title={'center':'Distribution of Final Cumuluative Returns Across All 500 Simulations'}, ylabel='Frequency'>"
      ]
     },
     "execution_count": 19,
     "metadata": {},
     "output_type": "execute_result"
    },
    {
     "data": {
      "image/png": "[encoded data removed]",
      "text/plain": [
       "<Figure size 432x288 with 1 Axes>"
      ]
     },
     "metadata": {
      "needs_background": "light"
     },
     "output_type": "display_data"
    }
   ],
   "source": [
    "# Visualize the probability distribution of the Five years Monte Carlo simulation \n",
    "# by plotting a histogram\n",
    "MC_fiveyear.plot_distribution()"
   ]
  },
  {
   "cell_type": "code",
   "execution_count": 90,
   "id": "376673c5-534b-49ed-b8ac-9df43ed4ca47",
   "metadata": {},
   "outputs": [
    {
     "data": {
      "text/plain": [
       "count           500.000000\n",
       "mean              1.712029\n",
       "std               0.715347\n",
       "min               0.463366\n",
       "25%               1.204720\n",
       "50%               1.587723\n",
       "75%               2.067910\n",
       "max               4.997473\n",
       "95% CI Lower      0.752406\n",
       "95% CI Upper      3.604140\n",
       "Name: 1260, dtype: float64"
      ]
     },
     "execution_count": 90,
     "metadata": {},
     "output_type": "execute_result"
    }
   ],
   "source": [
    "# Generate summary statistics from the Five years Monte Carlo simulation results\n",
    "\n",
    "MC_fiveyear.summarize_cumulative_return()"
   ]
  },
  {
   "cell_type": "code",
   "execution_count": 20,
   "id": "70b93f0c-ec29-4d93-b741-7a843fed3053",
   "metadata": {},
   "outputs": [
    {
     "data": {
      "text/plain": [
       "count           500.000000\n",
       "mean              1.678275\n",
       "std               0.745713\n",
       "min               0.429157\n",
       "25%               1.149305\n",
       "50%               1.594769\n",
       "75%               1.978835\n",
       "max               5.314578\n",
       "95% CI Lower      0.698274\n",
       "95% CI Upper      3.726662\n",
       "Name: 1260, dtype: float64"
      ]
     },
     "execution_count": 20,
     "metadata": {},
     "output_type": "execute_result"
    }
   ],
   "source": [
    "''' PLEASE REVIEW NUMBER / WITH .dropna()\n",
    "# Generate summary statistics from the Five years Monte Carlo simulation results\n",
    "\n",
    "MC_fiveyear.summarize_cumulative_return()\n",
    "'''"
   ]
  },
  {
   "cell_type": "code",
   "execution_count": 95,
   "id": "5b6420e6-93b1-4be7-a52d-18cff6db1f3a",
   "metadata": {},
   "outputs": [
    {
     "data": {
      "text/plain": [
       "(1.291876929683312, 1.3530439418834765)"
      ]
     },
     "execution_count": 95,
     "metadata": {},
     "output_type": "execute_result"
    }
   ],
   "source": [
    "'''\n",
    "WE can put this at the top with all libraries and dependancies\n",
    "'''\n",
    "\n",
    "import scipy.stats as st\n",
    "import numpy as np\n",
    "\n",
    "data2 = data.mean()\n",
    "    \n",
    "interval = st.t.interval(alpha=0.95, df=len(data2)-1, loc=np.mean(data2), scale=st.sem(data2))"
   ]
  },
  {
   "cell_type": "code",
   "execution_count": 91,
   "id": "5bcb25b4-5ab4-4058-9d38-32ea11767a03",
   "metadata": {},
   "outputs": [
    {
     "data": {
      "text/plain": [
       "<MCForecastTools.MCSimulation at 0x2652684db88>"
      ]
     },
     "execution_count": 91,
     "metadata": {},
     "output_type": "execute_result"
    }
   ],
   "source": [
    "MC_fiveyear"
   ]
  },
  {
   "cell_type": "code",
   "execution_count": 96,
   "id": "f8e085a0-6d61-4070-8847-fe1e3df73b57",
   "metadata": {
    "collapsed": true,
    "jupyter": {
     "outputs_hidden": true
    },
    "tags": []
   },
   "outputs": [
    {
     "data": {
      "text/plain": [
       "SPY  close    4300.17\n",
       "Name: 5/4/2022, dtype: float64"
      ]
     },
     "execution_count": 96,
     "metadata": {},
     "output_type": "execute_result"
    }
   ],
   "source": [
    "final.iloc[-1]"
   ]
  },
  {
   "cell_type": "code",
   "execution_count": 98,
   "id": "ce5b1dbb-87be-4b9b-ad36-7760ad8a3399",
   "metadata": {},
   "outputs": [
    {
     "name": "stdout",
     "output_type": "stream",
     "text": [
      "SPY  close    5555.290417\n",
      "Name: 5/4/2022, dtype: float64\n",
      "SPY  close    5818.318968\n",
      "Name: 5/4/2022, dtype: float64\n"
     ]
    }
   ],
   "source": [
    "print(f\"{interval[0] * final.iloc[-1]}\")\n",
    "print(f\"{interval[1] * final.iloc[-1]}\")"
   ]
  }
 ],
 "metadata": {
  "kernelspec": {
   "display_name": "Python (dev)",
   "language": "python",
   "name": "dev"
  },
  "language_info": {
   "codemirror_mode": {
    "name": "ipython",
    "version": 3
   },
   "file_extension": ".py",
   "mimetype": "text/x-python",
   "name": "python",
   "nbconvert_exporter": "python",
   "pygments_lexer": "ipython3",
   "version": "3.7.11"
  }
 },
 "nbformat": 4,
 "nbformat_minor": 5
}
